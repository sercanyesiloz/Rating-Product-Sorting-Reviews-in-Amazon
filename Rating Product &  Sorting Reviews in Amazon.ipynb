{
 "cells": [
  {
   "cell_type": "markdown",
   "metadata": {},
   "source": [
    "# Rating Product & Sorting Reviews in Amazon"
   ]
  },
  {
   "cell_type": "markdown",
   "metadata": {},
   "source": [
    "## İş Problemi\n",
    "\n",
    "Ürün ratinglerini daha doğru hesaplamaya \n",
    "çalışmak ve ürün yorumlarını daha doğru \n",
    "sıralamak."
   ]
  },
  {
   "cell_type": "markdown",
   "metadata": {},
   "source": [
    "## Veri Seti Hikayesi\n",
    "\n",
    "Amazon ürün verilerini içeren bu veri seti ürün kategorileri ile çeşitli metadataları içermektedir. Elektronik kategorisindeki en fazla yorum alan ürünün kullanıcı puanları ve yorumları vardır."
   ]
  },
  {
   "cell_type": "markdown",
   "metadata": {},
   "source": [
    "## Değişkenler\n",
    "\n",
    "- **reviewerID** – Kullanıcı ID’si\n",
    "- **asin** – Ürün ID’si\n",
    "- **reviewerName** – Kullanıcı Adı\n",
    "- **helpful** – Faydalı yorum derecesi\n",
    "- **reviewText** – Yorum\n",
    "- **overall** – Ürün rating’i\n",
    "- **summary** – İnceleme özeti\n",
    "- **unixReviewTime** – İnceleme zamanı\n",
    "- **reviewTime** – İnceleme zamanı"
   ]
  },
  {
   "cell_type": "markdown",
   "metadata": {},
   "source": [
    "## Gerekli Kütüphaneler"
   ]
  },
  {
   "cell_type": "code",
   "execution_count": 99,
   "metadata": {},
   "outputs": [],
   "source": [
    "import re\n",
    "import pandas as pd\n",
    "import numpy as np\n",
    "import math as math\n",
    "import scipy.stats as st\n",
    "from sklearn.preprocessing import MinMaxScaler"
   ]
  },
  {
   "cell_type": "markdown",
   "metadata": {},
   "source": [
    "# Proje Aşamaları"
   ]
  },
  {
   "cell_type": "markdown",
   "metadata": {},
   "source": [
    "## Görev 1: Average Rating’i güncel yorumlara göre hesaplayınız ve var olan average rating ile kıyaslayınız."
   ]
  },
  {
   "cell_type": "code",
   "execution_count": 100,
   "metadata": {},
   "outputs": [
    {
     "data": {
      "text/html": [
       "<div>\n",
       "<style scoped>\n",
       "    .dataframe tbody tr th:only-of-type {\n",
       "        vertical-align: middle;\n",
       "    }\n",
       "\n",
       "    .dataframe tbody tr th {\n",
       "        vertical-align: top;\n",
       "    }\n",
       "\n",
       "    .dataframe thead th {\n",
       "        text-align: right;\n",
       "    }\n",
       "</style>\n",
       "<table border=\"1\" class=\"dataframe\">\n",
       "  <thead>\n",
       "    <tr style=\"text-align: right;\">\n",
       "      <th></th>\n",
       "      <th>reviewerID</th>\n",
       "      <th>asin</th>\n",
       "      <th>reviewerName</th>\n",
       "      <th>helpful</th>\n",
       "      <th>reviewText</th>\n",
       "      <th>overall</th>\n",
       "      <th>summary</th>\n",
       "      <th>unixReviewTime</th>\n",
       "      <th>reviewTime</th>\n",
       "      <th>day_diff</th>\n",
       "      <th>helpful_yes</th>\n",
       "      <th>total_vote</th>\n",
       "    </tr>\n",
       "  </thead>\n",
       "  <tbody>\n",
       "    <tr>\n",
       "      <th>0</th>\n",
       "      <td>A3SBTW3WS4IQSN</td>\n",
       "      <td>B007WTAJTO</td>\n",
       "      <td>NaN</td>\n",
       "      <td>[0, 0]</td>\n",
       "      <td>No issues.</td>\n",
       "      <td>4.0</td>\n",
       "      <td>Four Stars</td>\n",
       "      <td>1406073600</td>\n",
       "      <td>2014-07-23</td>\n",
       "      <td>138</td>\n",
       "      <td>0</td>\n",
       "      <td>0</td>\n",
       "    </tr>\n",
       "    <tr>\n",
       "      <th>1</th>\n",
       "      <td>A18K1ODH1I2MVB</td>\n",
       "      <td>B007WTAJTO</td>\n",
       "      <td>0mie</td>\n",
       "      <td>[0, 0]</td>\n",
       "      <td>Purchased this for my device, it worked as adv...</td>\n",
       "      <td>5.0</td>\n",
       "      <td>MOAR SPACE!!!</td>\n",
       "      <td>1382659200</td>\n",
       "      <td>2013-10-25</td>\n",
       "      <td>409</td>\n",
       "      <td>0</td>\n",
       "      <td>0</td>\n",
       "    </tr>\n",
       "    <tr>\n",
       "      <th>2</th>\n",
       "      <td>A2FII3I2MBMUIA</td>\n",
       "      <td>B007WTAJTO</td>\n",
       "      <td>1K3</td>\n",
       "      <td>[0, 0]</td>\n",
       "      <td>it works as expected. I should have sprung for...</td>\n",
       "      <td>4.0</td>\n",
       "      <td>nothing to really say....</td>\n",
       "      <td>1356220800</td>\n",
       "      <td>2012-12-23</td>\n",
       "      <td>715</td>\n",
       "      <td>0</td>\n",
       "      <td>0</td>\n",
       "    </tr>\n",
       "  </tbody>\n",
       "</table>\n",
       "</div>"
      ],
      "text/plain": [
       "       reviewerID        asin reviewerName helpful  \\\n",
       "0  A3SBTW3WS4IQSN  B007WTAJTO          NaN  [0, 0]   \n",
       "1  A18K1ODH1I2MVB  B007WTAJTO         0mie  [0, 0]   \n",
       "2  A2FII3I2MBMUIA  B007WTAJTO          1K3  [0, 0]   \n",
       "\n",
       "                                          reviewText  overall  \\\n",
       "0                                         No issues.      4.0   \n",
       "1  Purchased this for my device, it worked as adv...      5.0   \n",
       "2  it works as expected. I should have sprung for...      4.0   \n",
       "\n",
       "                     summary  unixReviewTime  reviewTime  day_diff  \\\n",
       "0                 Four Stars      1406073600  2014-07-23       138   \n",
       "1              MOAR SPACE!!!      1382659200  2013-10-25       409   \n",
       "2  nothing to really say....      1356220800  2012-12-23       715   \n",
       "\n",
       "   helpful_yes  total_vote  \n",
       "0            0           0  \n",
       "1            0           0  \n",
       "2            0           0  "
      ]
     },
     "execution_count": 100,
     "metadata": {},
     "output_type": "execute_result"
    }
   ],
   "source": [
    "df = pd.read_csv('amazon_review.csv')\n",
    "df.head(3)"
   ]
  },
  {
   "cell_type": "code",
   "execution_count": 101,
   "metadata": {},
   "outputs": [
    {
     "data": {
      "text/plain": [
       "2020"
      ]
     },
     "execution_count": 101,
     "metadata": {},
     "output_type": "execute_result"
    }
   ],
   "source": [
    "df['total_vote'].max()"
   ]
  },
  {
   "cell_type": "code",
   "execution_count": 102,
   "metadata": {},
   "outputs": [
    {
     "data": {
      "text/plain": [
       "4.587589013224822"
      ]
     },
     "execution_count": 102,
     "metadata": {},
     "output_type": "execute_result"
    }
   ],
   "source": [
    "#Ortalama Puan\n",
    "\n",
    "df['overall'].mean()"
   ]
  },
  {
   "cell_type": "code",
   "execution_count": 103,
   "metadata": {},
   "outputs": [
    {
     "data": {
      "text/plain": [
       "dtype('O')"
      ]
     },
     "execution_count": 103,
     "metadata": {},
     "output_type": "execute_result"
    }
   ],
   "source": [
    "df['reviewTime'].dtypes #should be datetime"
   ]
  },
  {
   "cell_type": "code",
   "execution_count": 104,
   "metadata": {},
   "outputs": [
    {
     "name": "stdout",
     "output_type": "stream",
     "text": [
      "<class 'pandas.core.frame.DataFrame'>\n",
      "RangeIndex: 4915 entries, 0 to 4914\n",
      "Data columns (total 12 columns):\n",
      " #   Column          Non-Null Count  Dtype         \n",
      "---  ------          --------------  -----         \n",
      " 0   reviewerID      4915 non-null   object        \n",
      " 1   asin            4915 non-null   object        \n",
      " 2   reviewerName    4914 non-null   object        \n",
      " 3   helpful         4915 non-null   object        \n",
      " 4   reviewText      4914 non-null   object        \n",
      " 5   overall         4915 non-null   float64       \n",
      " 6   summary         4915 non-null   object        \n",
      " 7   unixReviewTime  4915 non-null   int64         \n",
      " 8   reviewTime      4915 non-null   datetime64[ns]\n",
      " 9   day_diff        4915 non-null   int64         \n",
      " 10  helpful_yes     4915 non-null   int64         \n",
      " 11  total_vote      4915 non-null   int64         \n",
      "dtypes: datetime64[ns](1), float64(1), int64(4), object(6)\n",
      "memory usage: 460.9+ KB\n"
     ]
    }
   ],
   "source": [
    "df['reviewTime'] = pd.to_datetime(df['reviewTime'])\n",
    "df.info()"
   ]
  },
  {
   "cell_type": "code",
   "execution_count": 105,
   "metadata": {},
   "outputs": [
    {
     "data": {
      "text/plain": [
       "Timestamp('2014-12-07 00:00:00')"
      ]
     },
     "execution_count": 105,
     "metadata": {},
     "output_type": "execute_result"
    }
   ],
   "source": [
    "df['reviewTime'].max()"
   ]
  },
  {
   "cell_type": "code",
   "execution_count": 106,
   "metadata": {},
   "outputs": [
    {
     "data": {
      "text/plain": [
       "Timestamp('2012-01-09 00:00:00')"
      ]
     },
     "execution_count": 106,
     "metadata": {},
     "output_type": "execute_result"
    }
   ],
   "source": [
    "df['reviewTime'].min()"
   ]
  },
  {
   "cell_type": "code",
   "execution_count": 107,
   "metadata": {},
   "outputs": [
    {
     "data": {
      "text/html": [
       "<div>\n",
       "<style scoped>\n",
       "    .dataframe tbody tr th:only-of-type {\n",
       "        vertical-align: middle;\n",
       "    }\n",
       "\n",
       "    .dataframe tbody tr th {\n",
       "        vertical-align: top;\n",
       "    }\n",
       "\n",
       "    .dataframe thead th {\n",
       "        text-align: right;\n",
       "    }\n",
       "</style>\n",
       "<table border=\"1\" class=\"dataframe\">\n",
       "  <thead>\n",
       "    <tr style=\"text-align: right;\">\n",
       "      <th></th>\n",
       "      <th>reviewerID</th>\n",
       "      <th>asin</th>\n",
       "      <th>reviewerName</th>\n",
       "      <th>helpful</th>\n",
       "      <th>reviewText</th>\n",
       "      <th>overall</th>\n",
       "      <th>summary</th>\n",
       "      <th>unixReviewTime</th>\n",
       "      <th>reviewTime</th>\n",
       "      <th>day_diff</th>\n",
       "      <th>helpful_yes</th>\n",
       "      <th>total_vote</th>\n",
       "      <th>days</th>\n",
       "    </tr>\n",
       "  </thead>\n",
       "  <tbody>\n",
       "    <tr>\n",
       "      <th>0</th>\n",
       "      <td>A3SBTW3WS4IQSN</td>\n",
       "      <td>B007WTAJTO</td>\n",
       "      <td>NaN</td>\n",
       "      <td>[0, 0]</td>\n",
       "      <td>No issues.</td>\n",
       "      <td>4.0</td>\n",
       "      <td>Four Stars</td>\n",
       "      <td>1406073600</td>\n",
       "      <td>2014-07-23</td>\n",
       "      <td>138</td>\n",
       "      <td>0</td>\n",
       "      <td>0</td>\n",
       "      <td>138</td>\n",
       "    </tr>\n",
       "    <tr>\n",
       "      <th>1</th>\n",
       "      <td>A18K1ODH1I2MVB</td>\n",
       "      <td>B007WTAJTO</td>\n",
       "      <td>0mie</td>\n",
       "      <td>[0, 0]</td>\n",
       "      <td>Purchased this for my device, it worked as adv...</td>\n",
       "      <td>5.0</td>\n",
       "      <td>MOAR SPACE!!!</td>\n",
       "      <td>1382659200</td>\n",
       "      <td>2013-10-25</td>\n",
       "      <td>409</td>\n",
       "      <td>0</td>\n",
       "      <td>0</td>\n",
       "      <td>409</td>\n",
       "    </tr>\n",
       "    <tr>\n",
       "      <th>2</th>\n",
       "      <td>A2FII3I2MBMUIA</td>\n",
       "      <td>B007WTAJTO</td>\n",
       "      <td>1K3</td>\n",
       "      <td>[0, 0]</td>\n",
       "      <td>it works as expected. I should have sprung for...</td>\n",
       "      <td>4.0</td>\n",
       "      <td>nothing to really say....</td>\n",
       "      <td>1356220800</td>\n",
       "      <td>2012-12-23</td>\n",
       "      <td>715</td>\n",
       "      <td>0</td>\n",
       "      <td>0</td>\n",
       "      <td>715</td>\n",
       "    </tr>\n",
       "    <tr>\n",
       "      <th>3</th>\n",
       "      <td>A3H99DFEG68SR</td>\n",
       "      <td>B007WTAJTO</td>\n",
       "      <td>1m2</td>\n",
       "      <td>[0, 0]</td>\n",
       "      <td>This think has worked out great.Had a diff. br...</td>\n",
       "      <td>5.0</td>\n",
       "      <td>Great buy at this price!!!  *** UPDATE</td>\n",
       "      <td>1384992000</td>\n",
       "      <td>2013-11-21</td>\n",
       "      <td>382</td>\n",
       "      <td>0</td>\n",
       "      <td>0</td>\n",
       "      <td>382</td>\n",
       "    </tr>\n",
       "    <tr>\n",
       "      <th>4</th>\n",
       "      <td>A375ZM4U047O79</td>\n",
       "      <td>B007WTAJTO</td>\n",
       "      <td>2&amp;amp;1/2Men</td>\n",
       "      <td>[0, 0]</td>\n",
       "      <td>Bought it with Retail Packaging, arrived legit...</td>\n",
       "      <td>5.0</td>\n",
       "      <td>best deal around</td>\n",
       "      <td>1373673600</td>\n",
       "      <td>2013-07-13</td>\n",
       "      <td>513</td>\n",
       "      <td>0</td>\n",
       "      <td>0</td>\n",
       "      <td>513</td>\n",
       "    </tr>\n",
       "  </tbody>\n",
       "</table>\n",
       "</div>"
      ],
      "text/plain": [
       "       reviewerID        asin  reviewerName helpful  \\\n",
       "0  A3SBTW3WS4IQSN  B007WTAJTO           NaN  [0, 0]   \n",
       "1  A18K1ODH1I2MVB  B007WTAJTO          0mie  [0, 0]   \n",
       "2  A2FII3I2MBMUIA  B007WTAJTO           1K3  [0, 0]   \n",
       "3   A3H99DFEG68SR  B007WTAJTO           1m2  [0, 0]   \n",
       "4  A375ZM4U047O79  B007WTAJTO  2&amp;1/2Men  [0, 0]   \n",
       "\n",
       "                                          reviewText  overall  \\\n",
       "0                                         No issues.      4.0   \n",
       "1  Purchased this for my device, it worked as adv...      5.0   \n",
       "2  it works as expected. I should have sprung for...      4.0   \n",
       "3  This think has worked out great.Had a diff. br...      5.0   \n",
       "4  Bought it with Retail Packaging, arrived legit...      5.0   \n",
       "\n",
       "                                  summary  unixReviewTime reviewTime  \\\n",
       "0                              Four Stars      1406073600 2014-07-23   \n",
       "1                           MOAR SPACE!!!      1382659200 2013-10-25   \n",
       "2               nothing to really say....      1356220800 2012-12-23   \n",
       "3  Great buy at this price!!!  *** UPDATE      1384992000 2013-11-21   \n",
       "4                        best deal around      1373673600 2013-07-13   \n",
       "\n",
       "   day_diff  helpful_yes  total_vote  days  \n",
       "0       138            0           0   138  \n",
       "1       409            0           0   409  \n",
       "2       715            0           0   715  \n",
       "3       382            0           0   382  \n",
       "4       513            0           0   513  "
      ]
     },
     "execution_count": 107,
     "metadata": {},
     "output_type": "execute_result"
    }
   ],
   "source": [
    "current_date = pd.to_datetime('2014-12-08 00:00:00')\n",
    "\n",
    "df['days'] = (current_date - df['reviewTime']).dt.days\n",
    "\n",
    "df.head()"
   ]
  },
  {
   "cell_type": "code",
   "execution_count": 108,
   "metadata": {},
   "outputs": [
    {
     "data": {
      "text/plain": [
       "1064"
      ]
     },
     "execution_count": 108,
     "metadata": {},
     "output_type": "execute_result"
    }
   ],
   "source": [
    "df['days'].max()"
   ]
  },
  {
   "cell_type": "code",
   "execution_count": 109,
   "metadata": {},
   "outputs": [
    {
     "data": {
      "text/plain": [
       "1"
      ]
     },
     "execution_count": 109,
     "metadata": {},
     "output_type": "execute_result"
    }
   ],
   "source": [
    "df['days'].min()"
   ]
  },
  {
   "cell_type": "markdown",
   "metadata": {},
   "source": [
    "## Time Based Weighted Average"
   ]
  },
  {
   "cell_type": "code",
   "execution_count": 110,
   "metadata": {},
   "outputs": [
    {
     "data": {
      "text/plain": [
       "4.587589013224822"
      ]
     },
     "execution_count": 110,
     "metadata": {},
     "output_type": "execute_result"
    }
   ],
   "source": [
    "df['overall'].mean()"
   ]
  },
  {
   "cell_type": "code",
   "execution_count": 111,
   "metadata": {},
   "outputs": [],
   "source": [
    "# öncesi - 3 aylık\n",
    "# 3 aylık - 6 aylık\n",
    "# 6 aylık - 12 aylık\n",
    "# 12 aylık - sonrası"
   ]
  },
  {
   "cell_type": "code",
   "execution_count": 112,
   "metadata": {},
   "outputs": [
    {
     "data": {
      "text/plain": [
       "4.66657427388032"
      ]
     },
     "execution_count": 112,
     "metadata": {},
     "output_type": "execute_result"
    }
   ],
   "source": [
    "df[(df['days'] <= 90)]['overall'].mean()*0.28+ \\\n",
    "df[(df['days'] > 90) & (df['days'] <= 180)]['overall'].mean()*0.26+ \\\n",
    "df[(df['days'] > 180) & (df['days'] <= 360)]['overall'].mean()*0.24+ \\\n",
    "df[(df['days'] > 360)]['overall'].mean()*0.22"
   ]
  },
  {
   "cell_type": "code",
   "execution_count": 113,
   "metadata": {},
   "outputs": [
    {
     "data": {
      "text/plain": [
       "4.666574273880321"
      ]
     },
     "execution_count": 113,
     "metadata": {},
     "output_type": "execute_result"
    }
   ],
   "source": [
    "def time_based_weighted_average(dataframe, w1=28, w2=26, w3=24, w4=22):\n",
    "    return dataframe.loc[df[\"days\"] <= 90, \"overall\"].mean() * w1 / 100 + \\\n",
    "           dataframe.loc[(dataframe[\"days\"] > 90) & (dataframe[\"days\"] <= 180), \"overall\"].mean() * w2 / 100 + \\\n",
    "           dataframe.loc[(dataframe[\"days\"] > 180) & (dataframe[\"days\"] <= 360), \"overall\"].mean() * w3 / 100 + \\\n",
    "           dataframe.loc[(dataframe[\"days\"] > 360), \"overall\"].mean() * w4 / 100\n",
    "\n",
    "time_based_weighted_average(df)"
   ]
  },
  {
   "cell_type": "markdown",
   "metadata": {},
   "source": [
    "## Görev 2: Ürün için ürün detay sayfasında görüntülenecek 20 review’i belirleyiniz.\n"
   ]
  },
  {
   "cell_type": "code",
   "execution_count": 114,
   "metadata": {},
   "outputs": [
    {
     "data": {
      "text/html": [
       "<div>\n",
       "<style scoped>\n",
       "    .dataframe tbody tr th:only-of-type {\n",
       "        vertical-align: middle;\n",
       "    }\n",
       "\n",
       "    .dataframe tbody tr th {\n",
       "        vertical-align: top;\n",
       "    }\n",
       "\n",
       "    .dataframe thead th {\n",
       "        text-align: right;\n",
       "    }\n",
       "</style>\n",
       "<table border=\"1\" class=\"dataframe\">\n",
       "  <thead>\n",
       "    <tr style=\"text-align: right;\">\n",
       "      <th></th>\n",
       "      <th>reviewText</th>\n",
       "      <th>helpful</th>\n",
       "      <th>helpful_yes</th>\n",
       "      <th>helpful_no</th>\n",
       "    </tr>\n",
       "  </thead>\n",
       "  <tbody>\n",
       "    <tr>\n",
       "      <th>2031</th>\n",
       "      <td>[[ UPDATE - 6/19/2014 ]]So my lovely wife boug...</td>\n",
       "      <td>[1952, 2020]</td>\n",
       "      <td>1952</td>\n",
       "      <td>68</td>\n",
       "    </tr>\n",
       "    <tr>\n",
       "      <th>4212</th>\n",
       "      <td>NOTE:  please read the last update (scroll to ...</td>\n",
       "      <td>[1568, 1694]</td>\n",
       "      <td>1568</td>\n",
       "      <td>126</td>\n",
       "    </tr>\n",
       "    <tr>\n",
       "      <th>3449</th>\n",
       "      <td>I have tested dozens of SDHC and micro-SDHC ca...</td>\n",
       "      <td>[1428, 1505]</td>\n",
       "      <td>1428</td>\n",
       "      <td>77</td>\n",
       "    </tr>\n",
       "    <tr>\n",
       "      <th>317</th>\n",
       "      <td>If your card gets hot enough to be painful, it...</td>\n",
       "      <td>[422, 495]</td>\n",
       "      <td>422</td>\n",
       "      <td>73</td>\n",
       "    </tr>\n",
       "    <tr>\n",
       "      <th>3981</th>\n",
       "      <td>The last few days I have been diligently shopp...</td>\n",
       "      <td>[112, 139]</td>\n",
       "      <td>112</td>\n",
       "      <td>27</td>\n",
       "    </tr>\n",
       "    <tr>\n",
       "      <th>4596</th>\n",
       "      <td>Hi:I ordered two card and they arrived the nex...</td>\n",
       "      <td>[82, 109]</td>\n",
       "      <td>82</td>\n",
       "      <td>27</td>\n",
       "    </tr>\n",
       "    <tr>\n",
       "      <th>1835</th>\n",
       "      <td>Bought from BestBuy online the day it was anno...</td>\n",
       "      <td>[60, 68]</td>\n",
       "      <td>60</td>\n",
       "      <td>8</td>\n",
       "    </tr>\n",
       "    <tr>\n",
       "      <th>2909</th>\n",
       "      <td>I know armed with this in my Android tablet an...</td>\n",
       "      <td>[53, 236]</td>\n",
       "      <td>53</td>\n",
       "      <td>183</td>\n",
       "    </tr>\n",
       "    <tr>\n",
       "      <th>4306</th>\n",
       "      <td>While I got this card as a \"deal of the day\" o...</td>\n",
       "      <td>[51, 65]</td>\n",
       "      <td>51</td>\n",
       "      <td>14</td>\n",
       "    </tr>\n",
       "    <tr>\n",
       "      <th>4672</th>\n",
       "      <td>Sandisk announcement of the first 128GB micro ...</td>\n",
       "      <td>[45, 49]</td>\n",
       "      <td>45</td>\n",
       "      <td>4</td>\n",
       "    </tr>\n",
       "  </tbody>\n",
       "</table>\n",
       "</div>"
      ],
      "text/plain": [
       "                                             reviewText       helpful  \\\n",
       "2031  [[ UPDATE - 6/19/2014 ]]So my lovely wife boug...  [1952, 2020]   \n",
       "4212  NOTE:  please read the last update (scroll to ...  [1568, 1694]   \n",
       "3449  I have tested dozens of SDHC and micro-SDHC ca...  [1428, 1505]   \n",
       "317   If your card gets hot enough to be painful, it...    [422, 495]   \n",
       "3981  The last few days I have been diligently shopp...    [112, 139]   \n",
       "4596  Hi:I ordered two card and they arrived the nex...     [82, 109]   \n",
       "1835  Bought from BestBuy online the day it was anno...      [60, 68]   \n",
       "2909  I know armed with this in my Android tablet an...     [53, 236]   \n",
       "4306  While I got this card as a \"deal of the day\" o...      [51, 65]   \n",
       "4672  Sandisk announcement of the first 128GB micro ...      [45, 49]   \n",
       "\n",
       "      helpful_yes  helpful_no  \n",
       "2031         1952          68  \n",
       "4212         1568         126  \n",
       "3449         1428          77  \n",
       "317           422          73  \n",
       "3981          112          27  \n",
       "4596           82          27  \n",
       "1835           60           8  \n",
       "2909           53         183  \n",
       "4306           51          14  \n",
       "4672           45           4  "
      ]
     },
     "execution_count": 114,
     "metadata": {},
     "output_type": "execute_result"
    }
   ],
   "source": [
    "df = pd.read_csv('amazon_review.csv')\n",
    "\n",
    "df['helpful_yes'] = df.helpful[df.helpful.notna()].apply(lambda x: re.sub('[\\W_]+','',x.split()[0])).astype(int)\n",
    "df['helpful_no'] = df.helpful[df.helpful.notna()].apply(lambda x: int(re.sub('[\\W_]+','',x.split()[1])) \\\n",
    "                                                        - int(re.sub('[\\W_]+','',x.split()[0])))\n",
    "\n",
    "df[['reviewText','helpful','helpful_yes','helpful_no']].sort_values('helpful_yes',ascending=False).head(10)"
   ]
  },
  {
   "cell_type": "code",
   "execution_count": 115,
   "metadata": {},
   "outputs": [
    {
     "data": {
      "text/plain": [
       "0.9663366336633663"
      ]
     },
     "execution_count": 115,
     "metadata": {},
     "output_type": "execute_result"
    }
   ],
   "source": [
    "#average rating = (up ratings) / (all ratings)\n",
    "\n",
    "def score_average_rating(up,down):\n",
    "    if up + down == 0:\n",
    "        return 0\n",
    "    return up / (up+down)\n",
    "\n",
    "score_average_rating(1952,68)"
   ]
  },
  {
   "cell_type": "code",
   "execution_count": 116,
   "metadata": {},
   "outputs": [
    {
     "data": {
      "text/html": [
       "<div>\n",
       "<style scoped>\n",
       "    .dataframe tbody tr th:only-of-type {\n",
       "        vertical-align: middle;\n",
       "    }\n",
       "\n",
       "    .dataframe tbody tr th {\n",
       "        vertical-align: top;\n",
       "    }\n",
       "\n",
       "    .dataframe thead th {\n",
       "        text-align: right;\n",
       "    }\n",
       "</style>\n",
       "<table border=\"1\" class=\"dataframe\">\n",
       "  <thead>\n",
       "    <tr style=\"text-align: right;\">\n",
       "      <th></th>\n",
       "      <th>reviewText</th>\n",
       "      <th>helpful</th>\n",
       "      <th>helpful_yes</th>\n",
       "      <th>helpful_no</th>\n",
       "      <th>score_average_rating</th>\n",
       "    </tr>\n",
       "  </thead>\n",
       "  <tbody>\n",
       "    <tr>\n",
       "      <th>4277</th>\n",
       "      <td>I have a galaxy note II and after rooting I no...</td>\n",
       "      <td>[1, 1]</td>\n",
       "      <td>1</td>\n",
       "      <td>0</td>\n",
       "      <td>1.0</td>\n",
       "    </tr>\n",
       "    <tr>\n",
       "      <th>2881</th>\n",
       "      <td>The Nexus One is listed as supporting a maximu...</td>\n",
       "      <td>[1, 1]</td>\n",
       "      <td>1</td>\n",
       "      <td>0</td>\n",
       "      <td>1.0</td>\n",
       "    </tr>\n",
       "    <tr>\n",
       "      <th>1073</th>\n",
       "      <td>I used it with my Samsung S4 and it works grea...</td>\n",
       "      <td>[1, 1]</td>\n",
       "      <td>1</td>\n",
       "      <td>0</td>\n",
       "      <td>1.0</td>\n",
       "    </tr>\n",
       "    <tr>\n",
       "      <th>445</th>\n",
       "      <td>This is exactly what I was looking for to upgr...</td>\n",
       "      <td>[1, 1]</td>\n",
       "      <td>1</td>\n",
       "      <td>0</td>\n",
       "      <td>1.0</td>\n",
       "    </tr>\n",
       "    <tr>\n",
       "      <th>3923</th>\n",
       "      <td>It's a SanDisk, so what more is there to say? ...</td>\n",
       "      <td>[1, 1]</td>\n",
       "      <td>1</td>\n",
       "      <td>0</td>\n",
       "      <td>1.0</td>\n",
       "    </tr>\n",
       "    <tr>\n",
       "      <th>435</th>\n",
       "      <td>This is working great in my AT&amp;T Galaxy Note. ...</td>\n",
       "      <td>[1, 1]</td>\n",
       "      <td>1</td>\n",
       "      <td>0</td>\n",
       "      <td>1.0</td>\n",
       "    </tr>\n",
       "    <tr>\n",
       "      <th>2901</th>\n",
       "      <td>Not a good typer or speller :) here is what I ...</td>\n",
       "      <td>[1, 1]</td>\n",
       "      <td>1</td>\n",
       "      <td>0</td>\n",
       "      <td>1.0</td>\n",
       "    </tr>\n",
       "    <tr>\n",
       "      <th>2204</th>\n",
       "      <td>I just called Sandisk and they say they have a...</td>\n",
       "      <td>[1, 1]</td>\n",
       "      <td>1</td>\n",
       "      <td>0</td>\n",
       "      <td>1.0</td>\n",
       "    </tr>\n",
       "    <tr>\n",
       "      <th>2206</th>\n",
       "      <td>I bought this for my garmin virb action cam.  ...</td>\n",
       "      <td>[1, 1]</td>\n",
       "      <td>1</td>\n",
       "      <td>0</td>\n",
       "      <td>1.0</td>\n",
       "    </tr>\n",
       "    <tr>\n",
       "      <th>3408</th>\n",
       "      <td>Very good card and still working now in my car...</td>\n",
       "      <td>[1, 1]</td>\n",
       "      <td>1</td>\n",
       "      <td>0</td>\n",
       "      <td>1.0</td>\n",
       "    </tr>\n",
       "  </tbody>\n",
       "</table>\n",
       "</div>"
      ],
      "text/plain": [
       "                                             reviewText helpful  helpful_yes  \\\n",
       "4277  I have a galaxy note II and after rooting I no...  [1, 1]            1   \n",
       "2881  The Nexus One is listed as supporting a maximu...  [1, 1]            1   \n",
       "1073  I used it with my Samsung S4 and it works grea...  [1, 1]            1   \n",
       "445   This is exactly what I was looking for to upgr...  [1, 1]            1   \n",
       "3923  It's a SanDisk, so what more is there to say? ...  [1, 1]            1   \n",
       "435   This is working great in my AT&T Galaxy Note. ...  [1, 1]            1   \n",
       "2901  Not a good typer or speller :) here is what I ...  [1, 1]            1   \n",
       "2204  I just called Sandisk and they say they have a...  [1, 1]            1   \n",
       "2206  I bought this for my garmin virb action cam.  ...  [1, 1]            1   \n",
       "3408  Very good card and still working now in my car...  [1, 1]            1   \n",
       "\n",
       "      helpful_no  score_average_rating  \n",
       "4277           0                   1.0  \n",
       "2881           0                   1.0  \n",
       "1073           0                   1.0  \n",
       "445            0                   1.0  \n",
       "3923           0                   1.0  \n",
       "435            0                   1.0  \n",
       "2901           0                   1.0  \n",
       "2204           0                   1.0  \n",
       "2206           0                   1.0  \n",
       "3408           0                   1.0  "
      ]
     },
     "execution_count": 116,
     "metadata": {},
     "output_type": "execute_result"
    }
   ],
   "source": [
    "df['score_average_rating'] = [score_average_rating(df['helpful_yes'][i],df['helpful_no'][i])for i in df.index]\n",
    "\n",
    "df[['reviewText','helpful','helpful_yes','helpful_no','score_average_rating']]. \\\n",
    "sort_values('score_average_rating',ascending=False).head(10)"
   ]
  },
  {
   "cell_type": "code",
   "execution_count": 117,
   "metadata": {},
   "outputs": [
    {
     "data": {
      "text/plain": [
       "0.07546821822485647"
      ]
     },
     "execution_count": 117,
     "metadata": {},
     "output_type": "execute_result"
    }
   ],
   "source": [
    "df['score_average_rating'].mean()"
   ]
  },
  {
   "cell_type": "code",
   "execution_count": 118,
   "metadata": {},
   "outputs": [],
   "source": [
    "def wilson_lower_bound(up, down, confidence=0.95):\n",
    "    \"\"\"\n",
    "    Wilson Lower Bound Score hesapla\n",
    "\n",
    "    - Bernoulli parametresi p için hesaplanacak güven aralığının alt sınırı WLB skoru olarak kabul edilir.\n",
    "    - Hesaplanacak skor ürün sıralaması için kullanılır.\n",
    "    - Not:\n",
    "    Eğer skorlar 1-5 arasıdaysa 1-3 negatif, 4-5 pozitif olarak işaretlenir ve bernoulli'ye uygun hale getirilebilir.\n",
    "    Bu beraberinde bazı problemleri de getirir. Bu sebeple bayesian average rating yapmak gerekir.\n",
    "\n",
    "    Parameters\n",
    "    ----------\n",
    "    up: int\n",
    "        up count\n",
    "    down: int\n",
    "        down count\n",
    "    confidence: float\n",
    "        confidence\n",
    "\n",
    "    Returns\n",
    "    -------\n",
    "    wilson score: float\n",
    "\n",
    "    \"\"\"\n",
    "    n = up + down\n",
    "    if n == 0:\n",
    "        return 0\n",
    "    z = st.norm.ppf(1 - (1 - confidence) / 2)\n",
    "    phat = 1.0 * up / n\n",
    "    return (phat + z * z / (2 * n) - z * math.sqrt((phat * (1 - phat) + z * z / (4 * n)) / n)) / (1 + z * z / n)"
   ]
  },
  {
   "cell_type": "code",
   "execution_count": 119,
   "metadata": {},
   "outputs": [
    {
     "data": {
      "text/html": [
       "<div>\n",
       "<style scoped>\n",
       "    .dataframe tbody tr th:only-of-type {\n",
       "        vertical-align: middle;\n",
       "    }\n",
       "\n",
       "    .dataframe tbody tr th {\n",
       "        vertical-align: top;\n",
       "    }\n",
       "\n",
       "    .dataframe thead th {\n",
       "        text-align: right;\n",
       "    }\n",
       "</style>\n",
       "<table border=\"1\" class=\"dataframe\">\n",
       "  <thead>\n",
       "    <tr style=\"text-align: right;\">\n",
       "      <th></th>\n",
       "      <th>reviewText</th>\n",
       "      <th>helpful</th>\n",
       "      <th>helpful_yes</th>\n",
       "      <th>helpful_no</th>\n",
       "      <th>score_average_rating</th>\n",
       "      <th>wilson_lower_bound</th>\n",
       "    </tr>\n",
       "  </thead>\n",
       "  <tbody>\n",
       "    <tr>\n",
       "      <th>2031</th>\n",
       "      <td>[[ UPDATE - 6/19/2014 ]]So my lovely wife boug...</td>\n",
       "      <td>[1952, 2020]</td>\n",
       "      <td>1952</td>\n",
       "      <td>68</td>\n",
       "      <td>0.966337</td>\n",
       "      <td>0.957544</td>\n",
       "    </tr>\n",
       "    <tr>\n",
       "      <th>3449</th>\n",
       "      <td>I have tested dozens of SDHC and micro-SDHC ca...</td>\n",
       "      <td>[1428, 1505]</td>\n",
       "      <td>1428</td>\n",
       "      <td>77</td>\n",
       "      <td>0.948837</td>\n",
       "      <td>0.936519</td>\n",
       "    </tr>\n",
       "    <tr>\n",
       "      <th>4212</th>\n",
       "      <td>NOTE:  please read the last update (scroll to ...</td>\n",
       "      <td>[1568, 1694]</td>\n",
       "      <td>1568</td>\n",
       "      <td>126</td>\n",
       "      <td>0.925620</td>\n",
       "      <td>0.912139</td>\n",
       "    </tr>\n",
       "    <tr>\n",
       "      <th>317</th>\n",
       "      <td>If your card gets hot enough to be painful, it...</td>\n",
       "      <td>[422, 495]</td>\n",
       "      <td>422</td>\n",
       "      <td>73</td>\n",
       "      <td>0.852525</td>\n",
       "      <td>0.818577</td>\n",
       "    </tr>\n",
       "    <tr>\n",
       "      <th>4672</th>\n",
       "      <td>Sandisk announcement of the first 128GB micro ...</td>\n",
       "      <td>[45, 49]</td>\n",
       "      <td>45</td>\n",
       "      <td>4</td>\n",
       "      <td>0.918367</td>\n",
       "      <td>0.808109</td>\n",
       "    </tr>\n",
       "    <tr>\n",
       "      <th>1835</th>\n",
       "      <td>Bought from BestBuy online the day it was anno...</td>\n",
       "      <td>[60, 68]</td>\n",
       "      <td>60</td>\n",
       "      <td>8</td>\n",
       "      <td>0.882353</td>\n",
       "      <td>0.784651</td>\n",
       "    </tr>\n",
       "    <tr>\n",
       "      <th>3981</th>\n",
       "      <td>The last few days I have been diligently shopp...</td>\n",
       "      <td>[112, 139]</td>\n",
       "      <td>112</td>\n",
       "      <td>27</td>\n",
       "      <td>0.805755</td>\n",
       "      <td>0.732136</td>\n",
       "    </tr>\n",
       "    <tr>\n",
       "      <th>3807</th>\n",
       "      <td>I bought this card to replace a lost 16 gig in...</td>\n",
       "      <td>[22, 25]</td>\n",
       "      <td>22</td>\n",
       "      <td>3</td>\n",
       "      <td>0.880000</td>\n",
       "      <td>0.700442</td>\n",
       "    </tr>\n",
       "    <tr>\n",
       "      <th>4306</th>\n",
       "      <td>While I got this card as a \"deal of the day\" o...</td>\n",
       "      <td>[51, 65]</td>\n",
       "      <td>51</td>\n",
       "      <td>14</td>\n",
       "      <td>0.784615</td>\n",
       "      <td>0.670334</td>\n",
       "    </tr>\n",
       "    <tr>\n",
       "      <th>4596</th>\n",
       "      <td>Hi:I ordered two card and they arrived the nex...</td>\n",
       "      <td>[82, 109]</td>\n",
       "      <td>82</td>\n",
       "      <td>27</td>\n",
       "      <td>0.752294</td>\n",
       "      <td>0.663595</td>\n",
       "    </tr>\n",
       "    <tr>\n",
       "      <th>315</th>\n",
       "      <td>Bought this card to use with my Samsung Galaxy...</td>\n",
       "      <td>[38, 48]</td>\n",
       "      <td>38</td>\n",
       "      <td>10</td>\n",
       "      <td>0.791667</td>\n",
       "      <td>0.657411</td>\n",
       "    </tr>\n",
       "    <tr>\n",
       "      <th>1465</th>\n",
       "      <td>I for one have not bought into Google's, or an...</td>\n",
       "      <td>[7, 7]</td>\n",
       "      <td>7</td>\n",
       "      <td>0</td>\n",
       "      <td>1.000000</td>\n",
       "      <td>0.645670</td>\n",
       "    </tr>\n",
       "    <tr>\n",
       "      <th>1609</th>\n",
       "      <td>I have always been a sandisk guy.  This cards ...</td>\n",
       "      <td>[7, 7]</td>\n",
       "      <td>7</td>\n",
       "      <td>0</td>\n",
       "      <td>1.000000</td>\n",
       "      <td>0.645670</td>\n",
       "    </tr>\n",
       "    <tr>\n",
       "      <th>4302</th>\n",
       "      <td>So I got this SD specifically for my GoPro Bla...</td>\n",
       "      <td>[14, 16]</td>\n",
       "      <td>14</td>\n",
       "      <td>2</td>\n",
       "      <td>0.875000</td>\n",
       "      <td>0.639772</td>\n",
       "    </tr>\n",
       "    <tr>\n",
       "      <th>4072</th>\n",
       "      <td>I used this for my Samsung Galaxy Tab 2 7.0 . ...</td>\n",
       "      <td>[6, 6]</td>\n",
       "      <td>6</td>\n",
       "      <td>0</td>\n",
       "      <td>1.000000</td>\n",
       "      <td>0.609666</td>\n",
       "    </tr>\n",
       "    <tr>\n",
       "      <th>1072</th>\n",
       "      <td>What more can I say? The 64GB micro SD works f...</td>\n",
       "      <td>[5, 5]</td>\n",
       "      <td>5</td>\n",
       "      <td>0</td>\n",
       "      <td>1.000000</td>\n",
       "      <td>0.565518</td>\n",
       "    </tr>\n",
       "    <tr>\n",
       "      <th>2583</th>\n",
       "      <td>I bought this Class 10 SD card for my GoPro 3 ...</td>\n",
       "      <td>[5, 5]</td>\n",
       "      <td>5</td>\n",
       "      <td>0</td>\n",
       "      <td>1.000000</td>\n",
       "      <td>0.565518</td>\n",
       "    </tr>\n",
       "    <tr>\n",
       "      <th>121</th>\n",
       "      <td>Update: providing an update with regard to San...</td>\n",
       "      <td>[5, 5]</td>\n",
       "      <td>5</td>\n",
       "      <td>0</td>\n",
       "      <td>1.000000</td>\n",
       "      <td>0.565518</td>\n",
       "    </tr>\n",
       "    <tr>\n",
       "      <th>1142</th>\n",
       "      <td>As soon as I saw that this card was announced ...</td>\n",
       "      <td>[5, 5]</td>\n",
       "      <td>5</td>\n",
       "      <td>0</td>\n",
       "      <td>1.000000</td>\n",
       "      <td>0.565518</td>\n",
       "    </tr>\n",
       "    <tr>\n",
       "      <th>1753</th>\n",
       "      <td>Puchased this card right after I received my S...</td>\n",
       "      <td>[5, 5]</td>\n",
       "      <td>5</td>\n",
       "      <td>0</td>\n",
       "      <td>1.000000</td>\n",
       "      <td>0.565518</td>\n",
       "    </tr>\n",
       "  </tbody>\n",
       "</table>\n",
       "</div>"
      ],
      "text/plain": [
       "                                             reviewText       helpful  \\\n",
       "2031  [[ UPDATE - 6/19/2014 ]]So my lovely wife boug...  [1952, 2020]   \n",
       "3449  I have tested dozens of SDHC and micro-SDHC ca...  [1428, 1505]   \n",
       "4212  NOTE:  please read the last update (scroll to ...  [1568, 1694]   \n",
       "317   If your card gets hot enough to be painful, it...    [422, 495]   \n",
       "4672  Sandisk announcement of the first 128GB micro ...      [45, 49]   \n",
       "1835  Bought from BestBuy online the day it was anno...      [60, 68]   \n",
       "3981  The last few days I have been diligently shopp...    [112, 139]   \n",
       "3807  I bought this card to replace a lost 16 gig in...      [22, 25]   \n",
       "4306  While I got this card as a \"deal of the day\" o...      [51, 65]   \n",
       "4596  Hi:I ordered two card and they arrived the nex...     [82, 109]   \n",
       "315   Bought this card to use with my Samsung Galaxy...      [38, 48]   \n",
       "1465  I for one have not bought into Google's, or an...        [7, 7]   \n",
       "1609  I have always been a sandisk guy.  This cards ...        [7, 7]   \n",
       "4302  So I got this SD specifically for my GoPro Bla...      [14, 16]   \n",
       "4072  I used this for my Samsung Galaxy Tab 2 7.0 . ...        [6, 6]   \n",
       "1072  What more can I say? The 64GB micro SD works f...        [5, 5]   \n",
       "2583  I bought this Class 10 SD card for my GoPro 3 ...        [5, 5]   \n",
       "121   Update: providing an update with regard to San...        [5, 5]   \n",
       "1142  As soon as I saw that this card was announced ...        [5, 5]   \n",
       "1753  Puchased this card right after I received my S...        [5, 5]   \n",
       "\n",
       "      helpful_yes  helpful_no  score_average_rating  wilson_lower_bound  \n",
       "2031         1952          68              0.966337            0.957544  \n",
       "3449         1428          77              0.948837            0.936519  \n",
       "4212         1568         126              0.925620            0.912139  \n",
       "317           422          73              0.852525            0.818577  \n",
       "4672           45           4              0.918367            0.808109  \n",
       "1835           60           8              0.882353            0.784651  \n",
       "3981          112          27              0.805755            0.732136  \n",
       "3807           22           3              0.880000            0.700442  \n",
       "4306           51          14              0.784615            0.670334  \n",
       "4596           82          27              0.752294            0.663595  \n",
       "315            38          10              0.791667            0.657411  \n",
       "1465            7           0              1.000000            0.645670  \n",
       "1609            7           0              1.000000            0.645670  \n",
       "4302           14           2              0.875000            0.639772  \n",
       "4072            6           0              1.000000            0.609666  \n",
       "1072            5           0              1.000000            0.565518  \n",
       "2583            5           0              1.000000            0.565518  \n",
       "121             5           0              1.000000            0.565518  \n",
       "1142            5           0              1.000000            0.565518  \n",
       "1753            5           0              1.000000            0.565518  "
      ]
     },
     "execution_count": 119,
     "metadata": {},
     "output_type": "execute_result"
    }
   ],
   "source": [
    "df['wilson_lower_bound'] = df.apply(lambda x: wilson_lower_bound(x['helpful_yes'], x['helpful_no']), axis=1)\n",
    "\n",
    "df[['reviewText','helpful','helpful_yes','helpful_no','score_average_rating','wilson_lower_bound']]. \\\n",
    "sort_values('wilson_lower_bound',ascending=False).head(20)"
   ]
  },
  {
   "cell_type": "markdown",
   "metadata": {},
   "source": [
    "## İlk 20 Yorum"
   ]
  },
  {
   "cell_type": "code",
   "execution_count": 120,
   "metadata": {},
   "outputs": [
    {
     "data": {
      "text/plain": [
       "2031    [[ UPDATE - 6/19/2014 ]]So my lovely wife boug...\n",
       "3449    I have tested dozens of SDHC and micro-SDHC ca...\n",
       "4212    NOTE:  please read the last update (scroll to ...\n",
       "317     If your card gets hot enough to be painful, it...\n",
       "4672    Sandisk announcement of the first 128GB micro ...\n",
       "1835    Bought from BestBuy online the day it was anno...\n",
       "3981    The last few days I have been diligently shopp...\n",
       "3807    I bought this card to replace a lost 16 gig in...\n",
       "4306    While I got this card as a \"deal of the day\" o...\n",
       "4596    Hi:I ordered two card and they arrived the nex...\n",
       "315     Bought this card to use with my Samsung Galaxy...\n",
       "1465    I for one have not bought into Google's, or an...\n",
       "1609    I have always been a sandisk guy.  This cards ...\n",
       "4302    So I got this SD specifically for my GoPro Bla...\n",
       "4072    I used this for my Samsung Galaxy Tab 2 7.0 . ...\n",
       "1072    What more can I say? The 64GB micro SD works f...\n",
       "2583    I bought this Class 10 SD card for my GoPro 3 ...\n",
       "121     Update: providing an update with regard to San...\n",
       "1142    As soon as I saw that this card was announced ...\n",
       "1753    Puchased this card right after I received my S...\n",
       "Name: reviewText, dtype: object"
      ]
     },
     "execution_count": 120,
     "metadata": {},
     "output_type": "execute_result"
    }
   ],
   "source": [
    "df[['reviewText','helpful','helpful_yes','helpful_no','score_average_rating','wilson_lower_bound']]. \\\n",
    "sort_values('wilson_lower_bound',ascending=False).head(20)['reviewText']"
   ]
  }
 ],
 "metadata": {
  "kernelspec": {
   "display_name": "Python 3",
   "language": "python",
   "name": "python3"
  },
  "language_info": {
   "codemirror_mode": {
    "name": "ipython",
    "version": 3
   },
   "file_extension": ".py",
   "mimetype": "text/x-python",
   "name": "python",
   "nbconvert_exporter": "python",
   "pygments_lexer": "ipython3",
   "version": "3.8.5"
  }
 },
 "nbformat": 4,
 "nbformat_minor": 4
}
